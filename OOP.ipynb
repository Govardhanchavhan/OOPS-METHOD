{
  "nbformat": 4,
  "nbformat_minor": 0,
  "metadata": {
    "colab": {
      "provenance": []
    },
    "kernelspec": {
      "name": "python3",
      "display_name": "Python 3"
    },
    "language_info": {
      "name": "python"
    }
  },
  "cells": [
    {
      "cell_type": "markdown",
      "source": [
        "#OOP - OBJECT ORIENTED PROGRAMMING"
      ],
      "metadata": {
        "id": "4MrLNA3r31_v"
      }
    },
    {
      "cell_type": "markdown",
      "source": [
        "Solving a problem by creating objects is one of the most populer approach in programming. This is called OOP.\n",
        "\n",
        "This is use for reusable code"
      ],
      "metadata": {
        "id": "i-MdiIV34B-0"
      }
    },
    {
      "cell_type": "markdown",
      "source": [
        "# Class - Blueprint for creating objects\n",
        "class name always start with captal letter\n",
        "\n",
        "# Object - Instance of a class"
      ],
      "metadata": {
        "id": "-t11fruX4zoh"
      }
    },
    {
      "cell_type": "code",
      "execution_count": 1,
      "metadata": {
        "colab": {
          "base_uri": "https://localhost:8080/"
        },
        "id": "sO9Dqf0N295z",
        "outputId": "cd79c643-2d38-441b-ff78-ff6328f1a56e"
      },
      "outputs": [
        {
          "output_type": "stream",
          "name": "stdout",
          "text": [
            "Arya\n"
          ]
        }
      ],
      "source": [
        "#class define\n",
        "class Person:\n",
        "  #constructor method to initialize the class\n",
        "  def __init__(self, name, age):\n",
        "    self.name = name    #assign name to the object\n",
        "    self.age = age      #assign age to the object\n",
        "\n",
        "\n",
        "#create an object for the class\n",
        "person1 = Person('Arya', 25)\n",
        "person2 = Person('Govardhan', 28)\n",
        "\n",
        "#access and print\n",
        "print(person1.name)\n"
      ]
    },
    {
      "cell_type": "code",
      "source": [
        "person2.age"
      ],
      "metadata": {
        "colab": {
          "base_uri": "https://localhost:8080/"
        },
        "id": "qRxUcvkW7A7r",
        "outputId": "68daf97d-1bf4-4fe0-deef-0cb67cdec0e9"
      },
      "execution_count": 2,
      "outputs": [
        {
          "output_type": "execute_result",
          "data": {
            "text/plain": [
              "28"
            ]
          },
          "metadata": {},
          "execution_count": 2
        }
      ]
    },
    {
      "cell_type": "markdown",
      "source": [
        "#2. Inheritance   -\n",
        " meaning -virasat ,"
      ],
      "metadata": {
        "id": "7wQ-JS4t7duv"
      }
    },
    {
      "cell_type": "code",
      "source": [
        "\n",
        "#base class\n",
        "class Animal:\n",
        "  #define method in animal\n",
        "  def sound(self):\n",
        "    return \"Make a sound\"\n",
        "\n",
        "#child class\n",
        "class Dog(Animal):\n",
        "  def sound(self):\n",
        "    return \"Barks\"\n",
        "\n",
        "#object create\n",
        "\n",
        "dog = Dog()"
      ],
      "metadata": {
        "id": "VE5ZeCJF7MHw"
      },
      "execution_count": 3,
      "outputs": []
    },
    {
      "cell_type": "code",
      "source": [
        "print(dog.sound())"
      ],
      "metadata": {
        "colab": {
          "base_uri": "https://localhost:8080/"
        },
        "id": "ngYkhnpF8tEx",
        "outputId": "8abc3080-fc9f-42ba-a237-95389ac0179e"
      },
      "execution_count": 4,
      "outputs": [
        {
          "output_type": "stream",
          "name": "stdout",
          "text": [
            "Barks\n"
          ]
        }
      ]
    },
    {
      "cell_type": "markdown",
      "source": [
        "#3. Polymorphism"
      ],
      "metadata": {
        "id": "wLxuyMAu8-s0"
      }
    },
    {
      "cell_type": "code",
      "source": [
        "class Dog:\n",
        "  def speak(self):\n",
        "    return \"Barks\"\n",
        "\n",
        "class Cat:\n",
        "  def speak(self):\n",
        "    return \"Meows\"\n",
        "\n",
        "#define function\n",
        "def animal_sound(animal):\n",
        "  print(animal.speak())\n",
        "\n",
        "#object\n",
        "cat = Cat()\n",
        "dog = Dog()"
      ],
      "metadata": {
        "id": "Br5KPPdu8xOC"
      },
      "execution_count": 5,
      "outputs": []
    },
    {
      "cell_type": "code",
      "source": [
        "animal_sound(dog)"
      ],
      "metadata": {
        "colab": {
          "base_uri": "https://localhost:8080/"
        },
        "id": "h0SNeIYK993Z",
        "outputId": "aa568873-700f-4f09-a381-61e65c64868e"
      },
      "execution_count": 6,
      "outputs": [
        {
          "output_type": "stream",
          "name": "stdout",
          "text": [
            "Barks\n"
          ]
        }
      ]
    },
    {
      "cell_type": "code",
      "source": [
        "animal_sound(cat)"
      ],
      "metadata": {
        "colab": {
          "base_uri": "https://localhost:8080/"
        },
        "id": "I-2YEYVG-H1r",
        "outputId": "b50476ff-8211-42e5-8f14-e4285bbcfbe7"
      },
      "execution_count": 7,
      "outputs": [
        {
          "output_type": "stream",
          "name": "stdout",
          "text": [
            "Meows\n"
          ]
        }
      ]
    },
    {
      "cell_type": "markdown",
      "source": [
        "#4. Encapsulation"
      ],
      "metadata": {
        "id": "3ZAvhlJf-SNF"
      }
    },
    {
      "cell_type": "code",
      "source": [
        "class BankAccount:\n",
        "  def __init__(self):\n",
        "    self.__balance = 0  #private variable\n",
        "\n",
        "  def deposit(self, amount):\n",
        "    self.__balance += amount\n",
        "\n",
        "  def getbalance(self):\n",
        "    return self.__balance\n",
        "\n",
        "account = BankAccount()\n",
        "\n"
      ],
      "metadata": {
        "id": "be4_F01B-KTB"
      },
      "execution_count": 11,
      "outputs": []
    },
    {
      "cell_type": "code",
      "source": [
        "account.deposit(1000)"
      ],
      "metadata": {
        "id": "yJal1mA-_7c6"
      },
      "execution_count": 12,
      "outputs": []
    },
    {
      "cell_type": "code",
      "source": [
        "account.getbalance()"
      ],
      "metadata": {
        "colab": {
          "base_uri": "https://localhost:8080/"
        },
        "id": "EjmJ202GAAyi",
        "outputId": "82f9fe1e-6d47-4db8-dd35-98316205de24"
      },
      "execution_count": 13,
      "outputs": [
        {
          "output_type": "execute_result",
          "data": {
            "text/plain": [
              "1000"
            ]
          },
          "metadata": {},
          "execution_count": 13
        }
      ]
    },
    {
      "cell_type": "markdown",
      "source": [
        "# 5. Abstraction\n",
        "\n",
        "hiding the internal details"
      ],
      "metadata": {
        "id": "YgObefE1AUAE"
      }
    },
    {
      "cell_type": "code",
      "source": [
        "#import abstract base class (ABC)\n",
        "\n",
        "from abc import ABC, abstractmethod"
      ],
      "metadata": {
        "id": "E5t-u-jdAEeS"
      },
      "execution_count": 14,
      "outputs": []
    },
    {
      "cell_type": "code",
      "source": [
        "class Shape(ABC):\n",
        "  def area(self):\n",
        "    pass\n",
        "\n",
        "class Rectangle(Shape):\n",
        "  def __init__(self, length, width):\n",
        "    self.length = length\n",
        "    self.width = width\n",
        "\n",
        "  def area(self):\n",
        "    return self.length * self.width\n",
        "\n",
        "rectangle = Rectangle(5, 10)"
      ],
      "metadata": {
        "id": "3As6jWjoA2QS"
      },
      "execution_count": 15,
      "outputs": []
    },
    {
      "cell_type": "code",
      "source": [
        "rectangle.area()"
      ],
      "metadata": {
        "colab": {
          "base_uri": "https://localhost:8080/"
        },
        "id": "1A1JtzZDBu3y",
        "outputId": "15baaa41-22e8-4286-fd13-23a4ed55a990"
      },
      "execution_count": 16,
      "outputs": [
        {
          "output_type": "execute_result",
          "data": {
            "text/plain": [
              "50"
            ]
          },
          "metadata": {},
          "execution_count": 16
        }
      ]
    },
    {
      "cell_type": "code",
      "source": [],
      "metadata": {
        "id": "8Bac1y57Bx1V"
      },
      "execution_count": null,
      "outputs": []
    }
  ]
}